{
  "nbformat": 4,
  "nbformat_minor": 0,
  "metadata": {
    "colab": {
      "provenance": []
    },
    "kernelspec": {
      "name": "python3",
      "display_name": "Python 3"
    },
    "language_info": {
      "name": "python"
    }
  },
  "cells": [
    {
      "cell_type": "markdown",
      "source": [
        "#**Business Objective:**\n",
        "\n",
        "The goal of this project is to develop a robust forecasting model for hourly energy consumption within the PJM Interconnection region of the United States. Using historical megawatt (MW) demand data, the project aims to uncover patterns related to hourly usage, seasonality, and holiday effects, and to ultimately generate accurate 30-day energy demand forecasts. These insights can support operational planning, peak load management, and data-driven energy distribution across PJM's extensive multi-state grid."
      ],
      "metadata": {
        "id": "lUq-YlAcotHB"
      }
    },
    {
      "cell_type": "markdown",
      "source": [
        "#Dataset Details:\n",
        "\n",
        "* **Datetime:** This column has the date and time recorded for the energy demand.\n",
        "* **PJMW_MW:** This column has the enery units recorded at the given particular date and time."
      ],
      "metadata": {
        "id": "-K0qBgpfow2R"
      }
    },
    {
      "cell_type": "code",
      "execution_count": 1,
      "metadata": {
        "id": "6YzAKdgkoft8"
      },
      "outputs": [],
      "source": [
        "# Importing basic libraries\n",
        "import numpy as np\n",
        "import pandas as pd\n",
        "import seaborn as sns\n",
        "import matplotlib.pyplot as plt"
      ]
    },
    {
      "cell_type": "code",
      "source": [],
      "metadata": {
        "id": "TVVIUEbappAG"
      },
      "execution_count": null,
      "outputs": []
    }
  ]
}